{
 "cells": [
  {
   "cell_type": "code",
   "execution_count": 3,
   "source": [
    "import pandas as pd\n",
    "import numpy as np\n",
    "import xgboost as xgb\n",
    "from sklearn.metrics import mean_absolute_error\n",
    "from GetData import get_train, get_test"
   ],
   "outputs": [],
   "metadata": {}
  },
  {
   "cell_type": "code",
   "execution_count": 4,
   "source": [
    "train = get_train()\n",
    "test = get_test()\n",
    "import matplotlib.mlab as mlab\n",
    "import matplotlib.pyplot as plt"
   ],
   "outputs": [],
   "metadata": {}
  },
  {
   "cell_type": "code",
   "execution_count": 5,
   "source": [
    "features = [x for x in train.columns if x not in ['id','loss']]\n",
    "#print(features)\n",
    "\n",
    "cat_features = [x for x in train.select_dtypes(include=['object']).columns if x not in ['id','loss']]\n",
    "num_features = [x for x in train.select_dtypes(exclude=['object']).columns if x not in ['id','loss']]"
   ],
   "outputs": [],
   "metadata": {}
  },
  {
   "cell_type": "markdown",
   "source": [
    "# Target Variable Distribution"
   ],
   "metadata": {}
  },
  {
   "cell_type": "code",
   "execution_count": 6,
   "source": [
    "train[\"loss\"].hist(bins = 100)"
   ],
   "outputs": [
    {
     "output_type": "execute_result",
     "data": {
      "text/plain": [
       "<AxesSubplot:>"
      ]
     },
     "metadata": {},
     "execution_count": 6
    },
    {
     "output_type": "display_data",
     "data": {
      "text/plain": [
       "<Figure size 432x288 with 1 Axes>"
      ],
      "image/png": "[encoded data removed]"
     },
     "metadata": {
      "needs_background": "light"
     }
    }
   ],
   "metadata": {}
  },
  {
   "cell_type": "markdown",
   "source": [
    "The target variable is not very symmetrical (left-skewed), which is what RMSE based algorithms really need to perform accurate predictions. Let's try transforming the target to get a better outcome."
   ],
   "metadata": {}
  },
  {
   "cell_type": "markdown",
   "source": [
    "# Lognormal Transformation of the Target Variable"
   ],
   "metadata": {}
  },
  {
   "cell_type": "code",
   "execution_count": 7,
   "source": [
    "train[\"log_loss\"] = np.log(train[\"loss\"])\n",
    "train[\"log_loss\"].hist(bins = 100)"
   ],
   "outputs": [
    {
     "output_type": "execute_result",
     "data": {
      "text/plain": [
       "<AxesSubplot:>"
      ]
     },
     "metadata": {},
     "execution_count": 7
    },
    {
     "output_type": "display_data",
     "data": {
      "text/plain": [
       "<Figure size 432x288 with 1 Axes>"
      ],
      "image/png": "[encoded data removed]"
     },
     "metadata": {
      "needs_background": "light"
     }
    }
   ],
   "metadata": {}
  },
  {
   "cell_type": "markdown",
   "source": [
    "This target variable is way more symmetrical, which will allow for better modeling."
   ],
   "metadata": {}
  },
  {
   "cell_type": "markdown",
   "source": [
    "# Data Preparation"
   ],
   "metadata": {}
  },
  {
   "cell_type": "markdown",
   "source": [
    "We will utilize ordinal encoding of the categorical features"
   ],
   "metadata": {}
  },
  {
   "cell_type": "code",
   "execution_count": 8,
   "source": [
    "categorical = train.loc[:, train.columns.str.startswith(\"cat\")]\n",
    "continuous = train.loc[:, train.columns.str.startswith(\"cont\")]\n",
    "\n",
    "cat_columns = categorical.columns.to_list()\n",
    "cont_columns = continuous.columns.to_list()"
   ],
   "outputs": [],
   "metadata": {}
  },
  {
   "cell_type": "markdown",
   "source": [
    "## Continuous Variable Correlations with Log(loss)"
   ],
   "metadata": {}
  },
  {
   "cell_type": "code",
   "execution_count": 9,
   "source": [
    "cont_correlation = continuous.copy()\n",
    "cont_correlation[\"log_loss\"] = train.loc[: ,\"log_loss\"]\n",
    "corr = cont_correlation.corr()\n",
    "corr = corr[\"log_loss\"].drop(\"log_loss\").sort_values()\n",
    "\n",
    "# Create a bar plot of continuous feature correlation with target 'loss'\n",
    "plt.bar(x = corr.index,  height = corr, color = \"blue\")\n",
    "plt.title(\"Continuous Correlations with 'Loss'\")\n",
    "plt.xlabel('Continuous Features')\n",
    "plt.ylabel(\"Correlation with 'Loss'\")\n",
    "plt.grid(color = '#95a5a6', linestyle = '--', linewidth = 2, axis = 'y', alpha = 0.7)\n",
    "plt.xticks(rotation = 45)\n",
    "plt.show()"
   ],
   "outputs": [
    {
     "output_type": "display_data",
     "data": {
      "text/plain": [
       "<Figure size 432x288 with 1 Axes>"
      ],
      "image/png": "[encoded data removed]"
     },
     "metadata": {
      "needs_background": "light"
     }
    }
   ],
   "metadata": {}
  },
  {
   "cell_type": "code",
   "execution_count": 10,
   "source": [
    "from sklearn.preprocessing import OrdinalEncoder\n",
    "from sklearn.feature_selection import SelectKBest\n",
    "from sklearn.feature_selection import f_regression\n",
    "from sklearn.pipeline import Pipeline\n",
    "from sklearn.compose import ColumnTransformer\n",
    "\n",
    "# Categorical Variable Pipe\n",
    "cat_pipe = Pipeline([\n",
    "    ('encoder', OrdinalEncoder(handle_unknown= \"True\")),\n",
    "    ('skb',SelectKBest(f_regression, k = 'all'))\n",
    "])\n",
    "\n",
    "# Column transformer, will need to set remainder = 'passthrough'\n",
    "full_pipeline = ColumnTransformer([\n",
    "    ('cat', cat_pipe, cat_columns),\n",
    "    (\"num\",'passthrough' ,cont_columns)\n",
    "])"
   ],
   "outputs": [],
   "metadata": {}
  },
  {
   "cell_type": "code",
   "execution_count": 11,
   "source": [
    "X = train.drop([\"loss\", \"log_loss\"], axis = 1)\n",
    "y = train[\"log_loss\"]\n",
    "\n",
    "X_prepared = full_pipeline.fit_transform(X, y)"
   ],
   "outputs": [],
   "metadata": {}
  },
  {
   "cell_type": "code",
   "execution_count": 12,
   "source": [
    "from sklearn.model_selection import train_test_split\n",
    "\n",
    "X_train, X_test, y_train, y_test = train_test_split(X_prepared,y,test_size = 0.2)"
   ],
   "outputs": [],
   "metadata": {}
  },
  {
   "cell_type": "markdown",
   "source": [
    "# Modeling"
   ],
   "metadata": {}
  },
  {
   "cell_type": "markdown",
   "source": [
    "> **SUMMARY** To get out predictions, we will average three boosting models (XGBoost, LGBM and CatBoost)"
   ],
   "metadata": {}
  },
  {
   "cell_type": "code",
   "execution_count": 13,
   "source": [
    "from xgboost import XGBRegressor\n",
    "from catboost import CatBoostRegressor\n",
    "from lightgbm import LGBMRegressor"
   ],
   "outputs": [],
   "metadata": {}
  },
  {
   "cell_type": "code",
   "execution_count": 14,
   "source": [
    "# Initiate Models\n",
    "model_xgb = XGBRegressor()\n",
    "model_cat = CatBoostRegressor()\n",
    "model_lgbm = LGBMRegressor()"
   ],
   "outputs": [],
   "metadata": {}
  },
  {
   "cell_type": "code",
   "execution_count": 15,
   "source": [
    "# Train Models\n",
    "model_xgb.fit(X_train,y_train)\n",
    "model_cat.fit(X_train,y_train, logging_level = 'Silent')\n",
    "model_lgbm.fit(X_train, y_train)"
   ],
   "outputs": [
    {
     "output_type": "execute_result",
     "data": {
      "text/plain": [
       "LGBMRegressor()"
      ]
     },
     "metadata": {},
     "execution_count": 15
    }
   ],
   "metadata": {}
  },
  {
   "cell_type": "code",
   "execution_count": 16,
   "source": [
    "# Get Predictions for evaluating training set\n",
    "xgb_preds = model_xgb.predict(X_test)\n",
    "cat_preds = model_cat.predict(X_test)\n",
    "lgbm_preds = model_lgbm.predict(X_test)"
   ],
   "outputs": [],
   "metadata": {}
  },
  {
   "cell_type": "code",
   "execution_count": 17,
   "source": [
    "# Average predictions\n",
    "preds = (xgb_preds + cat_preds + lgbm_preds) / 3\n",
    "\n",
    "# Transform Predictions\n",
    "preds = np.exp(preds - 1)\n",
    "\n",
    "# Transform target\n",
    "y_test_loss = np.exp(y_test - 1)"
   ],
   "outputs": [],
   "metadata": {}
  },
  {
   "cell_type": "code",
   "execution_count": 18,
   "source": [
    "# Compute Accuracy\n",
    "from sklearn.metrics import mean_squared_error\n",
    "\n",
    "mse = mean_squared_error(y_test_loss, preds)\n",
    "RMSE = np.sqrt(mse)\n",
    "RMSE"
   ],
   "outputs": [
    {
     "output_type": "execute_result",
     "data": {
      "text/plain": [
       "741.7099538483592"
      ]
     },
     "metadata": {},
     "execution_count": 18
    }
   ],
   "metadata": {}
  }
 ],
 "metadata": {
  "orig_nbformat": 4,
  "language_info": {
   "name": "python",
   "version": "3.8.8",
   "mimetype": "text/x-python",
   "codemirror_mode": {
    "name": "ipython",
    "version": 3
   },
   "pygments_lexer": "ipython3",
   "nbconvert_exporter": "python",
   "file_extension": ".py"
  },
  "kernelspec": {
   "name": "python3",
   "display_name": "Python 3.8.8 64-bit ('base': conda)"
  },
  "interpreter": {
   "hash": "a783fd0496738373b57a264a2892895df5f1b07112bd4387e0f2df64e2641dc0"
  }
 },
 "nbformat": 4,
 "nbformat_minor": 2
}